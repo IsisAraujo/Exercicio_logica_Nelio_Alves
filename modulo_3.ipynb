{
 "cells": [
  {
   "cell_type": "markdown",
   "source": [
    "## Capítulo: Estrutura sequencial\n",
    "## Exercícios - PARTE 1"
   ],
   "metadata": {
    "collapsed": false
   },
   "id": "aeaa25cb6f65ba4b"
  },
  {
   "cell_type": "markdown",
   "source": [
    "### Problema \"terreno\"   "
   ],
   "metadata": {
    "collapsed": false
   },
   "id": "a441bf3c5779208e"
  },
  {
   "cell_type": "code",
   "execution_count": 10,
   "outputs": [],
   "source": [
    "largura = float(input('digite a largura'))\n",
    "comp = float(input('digite o comp'))\n",
    "valor = float(input('digite o valor do metro quadrado'))"
   ],
   "metadata": {
    "collapsed": false,
    "ExecuteTime": {
     "end_time": "2023-11-10T23:13:15.333207200Z",
     "start_time": "2023-11-10T23:13:04.940379200Z"
    }
   },
   "id": "653c953b1c17b3e1"
  },
  {
   "cell_type": "code",
   "execution_count": 11,
   "outputs": [],
   "source": [
    "largura = round(largura, 1)\n",
    "comp = round(comp, 1)\n",
    "valor = round(valor, 2)\n",
    "tamanho = largura*comp"
   ],
   "metadata": {
    "collapsed": false,
    "ExecuteTime": {
     "end_time": "2023-11-10T23:13:15.333207200Z",
     "start_time": "2023-11-10T23:13:15.321062Z"
    }
   },
   "id": "a026cc4552c89651"
  },
  {
   "cell_type": "code",
   "execution_count": 12,
   "outputs": [
    {
     "name": "stdout",
     "output_type": "stream",
     "text": [
      "202.5\n",
      "50.35\n"
     ]
    }
   ],
   "source": [
    "print(tamanho)\n",
    "print(valor)"
   ],
   "metadata": {
    "collapsed": false,
    "ExecuteTime": {
     "end_time": "2023-11-10T23:13:15.350981900Z",
     "start_time": "2023-11-10T23:13:15.333207200Z"
    }
   },
   "id": "ae26ee409ed9cc54"
  },
  {
   "cell_type": "markdown",
   "source": [
    "### Problema \"terreno\"   "
   ],
   "metadata": {
    "collapsed": false
   },
   "id": "c70d26494781047f"
  },
  {
   "cell_type": "code",
   "execution_count": 13,
   "outputs": [],
   "source": [
    "import math\n",
    "base = int(input('digite o valor da base'))\n",
    "altura= int(input('digite o valor da altura'))  "
   ],
   "metadata": {
    "collapsed": false,
    "ExecuteTime": {
     "end_time": "2023-11-10T23:30:07.041324700Z",
     "start_time": "2023-11-10T23:30:01.303221200Z"
    }
   },
   "id": "9fbf57f824e73b6e"
  },
  {
   "cell_type": "code",
   "execution_count": 17,
   "outputs": [
    {
     "name": "stdout",
     "output_type": "stream",
     "text": [
      "A diagonal do retângulo é: 6.4031242374328485\n",
      "O perimetro do retângulo é: 18\n"
     ]
    }
   ],
   "source": [
    "area = (base*altura)\n",
    "perimetro = (base*2) + (altura*2)\n",
    "diagonal = math.sqrt((base**2) + (altura**2))\n",
    "print(\"A diagonal do retângulo é:\", diagonal)\n",
    "print(\"O perimetro do retângulo é:\", perimetro)"
   ],
   "metadata": {
    "collapsed": false,
    "ExecuteTime": {
     "end_time": "2023-11-10T23:32:01.855716700Z",
     "start_time": "2023-11-10T23:32:01.849990Z"
    }
   },
   "id": "5dbcb0f25c60c842"
  },
  {
   "cell_type": "markdown",
   "source": [
    "### Problema \"idades\""
   ],
   "metadata": {
    "collapsed": false
   },
   "id": "b607d40a3bd45fae"
  },
  {
   "cell_type": "code",
   "execution_count": 19,
   "outputs": [
    {
     "name": "stdout",
     "output_type": "stream",
     "text": [
      "A média de idade de maria e joao é de: 19.50\n"
     ]
    }
   ],
   "source": [
    "nome_1 = (input('digite o nome 1'))\n",
    "idade_1= int(input('digite a idade 1'))\n",
    "nome_2 = (input('digite o nome 2'))\n",
    "idade_2= int(input('digite a idade 2')) \n",
    "media = (idade_2+idade_1)/2\n",
    "print(f'A média de idade de {nome_1} e {nome_2} é de: {media:.2f}')"
   ],
   "metadata": {
    "collapsed": false,
    "ExecuteTime": {
     "end_time": "2023-11-10T23:41:47.909623600Z",
     "start_time": "2023-11-10T23:41:24.472555700Z"
    }
   },
   "id": "777ad549774a3ac6"
  },
  {
   "cell_type": "markdown",
   "source": [
    "### Problema \"troco\""
   ],
   "metadata": {
    "collapsed": false
   },
   "id": "4152e78bdcfbe7f4"
  },
  {
   "cell_type": "code",
   "execution_count": 22,
   "outputs": [],
   "source": [
    "preco = float(input('digite a preco'))\n",
    "qtd = float(input('digite o qtd'))\n",
    "valor = float(input('digite o valor pago'))"
   ],
   "metadata": {
    "collapsed": false,
    "ExecuteTime": {
     "end_time": "2023-11-10T23:47:09.158751700Z",
     "start_time": "2023-11-10T23:46:51.536403300Z"
    }
   },
   "id": "83bf24bdf044b632"
  },
  {
   "cell_type": "code",
   "execution_count": 23,
   "outputs": [
    {
     "data": {
      "text/plain": "4.0"
     },
     "execution_count": 23,
     "metadata": {},
     "output_type": "execute_result"
    }
   ],
   "source": [
    "total = preco*qtd\n",
    "troco = valor - total\n",
    "troco"
   ],
   "metadata": {
    "collapsed": false,
    "ExecuteTime": {
     "end_time": "2023-11-10T23:47:36.183909500Z",
     "start_time": "2023-11-10T23:47:36.164805700Z"
    }
   },
   "id": "f6a4bfb1dcf01c9e"
  },
  {
   "cell_type": "markdown",
   "source": [
    "### Problema \"Soma\""
   ],
   "metadata": {
    "collapsed": false
   },
   "id": "56e6a8fa4517909a"
  },
  {
   "cell_type": "code",
   "execution_count": 26,
   "outputs": [
    {
     "name": "stdout",
     "output_type": "stream",
     "text": [
      "A soma é: 18\n"
     ]
    }
   ],
   "source": [
    "num1= int(input('digite o num1'))\n",
    "num2 = int(input('digite o num2'))\n",
    "soma = num1 + num2\n",
    "print(f\"A soma é:\", soma)"
   ],
   "metadata": {
    "collapsed": false,
    "ExecuteTime": {
     "end_time": "2023-11-10T23:54:05.676971700Z",
     "start_time": "2023-11-10T23:54:02.509544300Z"
    }
   },
   "id": "ec92bb701ed70f64"
  },
  {
   "cell_type": "markdown",
   "source": [
    "### Problema \"Circulo\""
   ],
   "metadata": {
    "collapsed": false
   },
   "id": "1581753f59c1019f"
  },
  {
   "cell_type": "code",
   "execution_count": 28,
   "outputs": [
    {
     "name": "stdout",
     "output_type": "stream",
     "text": [
      " O raio é: 12.566370614359172\n"
     ]
    }
   ],
   "source": [
    "raio= int(input('digite o raio'))\n",
    "area = math.pi*raio**2\n",
    "print(\" O raio é:\", area)"
   ],
   "metadata": {
    "collapsed": false,
    "ExecuteTime": {
     "end_time": "2023-11-10T23:59:20.653906400Z",
     "start_time": "2023-11-10T23:59:18.896793500Z"
    }
   },
   "id": "8188fc89dfcb3df4"
  },
  {
   "cell_type": "markdown",
   "source": [
    "### Problema \"Pagamento\""
   ],
   "metadata": {
    "collapsed": false
   },
   "id": "77058d226b25bae8"
  },
  {
   "cell_type": "code",
   "execution_count": 30,
   "outputs": [
    {
     "name": "stdout",
     "output_type": "stream",
     "text": [
      "o valor recebido por joao é de 3000.0\n"
     ]
    }
   ],
   "source": [
    "nome= (input('digite o nome '))\n",
    "valor= float(input('digite o valor por hora'))\n",
    "horas= int(input('qts de horas trabalhadas'))\n",
    "pagamento = horas*valor\n",
    "print(f'o valor recebido por {nome} é de {pagamento}')"
   ],
   "metadata": {
    "collapsed": false,
    "ExecuteTime": {
     "end_time": "2023-11-11T00:04:33.068670700Z",
     "start_time": "2023-11-11T00:04:23.507783400Z"
    }
   },
   "id": "46d459d194364539"
  },
  {
   "cell_type": "markdown",
   "source": [
    "### Problema \"consumo\""
   ],
   "metadata": {
    "collapsed": false
   },
   "id": "c3ceccde397605f6"
  },
  {
   "cell_type": "code",
   "execution_count": 33,
   "outputs": [
    {
     "name": "stdout",
     "output_type": "stream",
     "text": [
      "o consumo total gasto é de 12.987\n"
     ]
    }
   ],
   "source": [
    "km = float(input('digite o km do carro'))\n",
    "combustivel = float(input('digite o combustivel gasto'))\n",
    "consumo = km/combustivel\n",
    "print (f'o consumo total gasto é de {consumo:.3f}')"
   ],
   "metadata": {
    "collapsed": false,
    "ExecuteTime": {
     "end_time": "2023-11-11T00:12:39.310751300Z",
     "start_time": "2023-11-11T00:12:33.746106700Z"
    }
   },
   "id": "b7cef29862cf3206"
  },
  {
   "cell_type": "markdown",
   "source": [
    "### Problema \"medidas\""
   ],
   "metadata": {
    "collapsed": false
   },
   "id": "19df5ff4ba24ccbf"
  },
  {
   "cell_type": "code",
   "execution_count": 34,
   "outputs": [],
   "source": [
    "a= float(input('digite o valor de a'))\n",
    "b= float(input('digite o valor de b'))\n",
    "c= float(input('digite o valor de c'))"
   ],
   "metadata": {
    "collapsed": false,
    "ExecuteTime": {
     "end_time": "2023-11-11T00:19:32.695512100Z",
     "start_time": "2023-11-11T00:19:22.949454Z"
    }
   },
   "id": "4e82fcd7c98ef8c9"
  },
  {
   "cell_type": "code",
   "execution_count": 42,
   "outputs": [],
   "source": [
    "area_qd = a*4\n",
    "area_tr = a*b/2\n",
    "area_tz = (a+b)*c/2"
   ],
   "metadata": {
    "collapsed": false,
    "ExecuteTime": {
     "end_time": "2023-11-11T00:20:56.097906500Z",
     "start_time": "2023-11-11T00:20:56.093451600Z"
    }
   },
   "id": "626e3d96b7ff5b3"
  },
  {
   "cell_type": "markdown",
   "source": [
    "### Problema \"duracao\""
   ],
   "metadata": {
    "collapsed": false
   },
   "id": "6c3ed5f8ce830551"
  },
  {
   "cell_type": "code",
   "execution_count": null,
   "outputs": [],
   "source": [
    "hora= int(input('digite o tempo em segundos'))\n"
   ],
   "metadata": {
    "collapsed": false
   },
   "id": "81ff27a67d43d134"
  }
 ],
 "metadata": {
  "kernelspec": {
   "display_name": "Python 3",
   "language": "python",
   "name": "python3"
  },
  "language_info": {
   "codemirror_mode": {
    "name": "ipython",
    "version": 2
   },
   "file_extension": ".py",
   "mimetype": "text/x-python",
   "name": "python",
   "nbconvert_exporter": "python",
   "pygments_lexer": "ipython2",
   "version": "2.7.6"
  }
 },
 "nbformat": 4,
 "nbformat_minor": 5
}
