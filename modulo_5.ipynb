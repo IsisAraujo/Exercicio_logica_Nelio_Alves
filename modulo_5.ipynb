{
 "cells": [
  {
   "cell_type": "markdown",
   "source": [
    "# Capítulo: Estrutura Repetidas"
   ],
   "metadata": {
    "collapsed": false
   },
   "id": "e991136d1452ae53"
  },
  {
   "cell_type": "markdown",
   "source": [
    "#### 1 - Problema \"crescente\" (adaptado de URI 1113)  \n",
    "Leia uma quantidade indeterminada de duplas de valores inteiros X e Y. Escreva para cada X e Y uma mensagem que indique se estes valores foram digitados em ordem crescente ou decrescente. O programa deve finalizar quando forem digitados dois valores iguais."
   ],
   "metadata": {
    "collapsed": false
   },
   "id": "e75c21511ea20ffb"
  },
  {
   "cell_type": "code",
   "outputs": [
    {
     "name": "stdout",
     "output_type": "stream",
     "text": [
      "Ordem decrescente.\n",
      "Você não digitou um número válido. Por favor, digite apenas números inteiros.\n",
      "Os números são iguais. Encerrando o programa.\n"
     ]
    }
   ],
   "source": [
    "while True:\n",
    "    x = int(input(\"Digite o primeiro número: \"))\n",
    "    y = int(input(\"Digite o segundo número: \"))\n",
    "\n",
    "    if x == y:\n",
    "        print(\"Os números são iguais. Encerrando o programa.\")\n",
    "        break\n",
    "    elif x < y:\n",
    "        print(\"Ordem crescente.\")\n",
    "    else:\n",
    "        print(\"Ordem decrescente.\")"
   ],
   "metadata": {
    "collapsed": false,
    "ExecuteTime": {
     "end_time": "2024-01-09T22:53:33.273146200Z",
     "start_time": "2024-01-09T22:53:21.203372700Z"
    }
   },
   "id": "9bf311457393fced",
   "execution_count": 8
  },
  {
   "cell_type": "markdown",
   "source": [
    "#### 2 - Problema \"media_idades\"  \n",
    "Faça um programa para ler um número indeterminado de dados, contendo cada um, a idade de um indivíduo. O último dado, que não entrará nos cálculos, contém um valor de idade negativa. Calcular e imprimir a idade média deste grupo de indivíduos. Se for entrado um valor negativo na primeira vez, mostrar a mensagem \"IMPOSSIVEL CALCULAR\". "
   ],
   "metadata": {
    "collapsed": false
   },
   "id": "8079ce5c44e6eba8"
  },
  {
   "cell_type": "code",
   "outputs": [],
   "source": [],
   "metadata": {
    "collapsed": false
   },
   "id": "1faa4dbb9c7107a5"
  },
  {
   "cell_type": "markdown",
   "source": [],
   "metadata": {
    "collapsed": false
   },
   "id": "7bd3a517524e43af"
  }
 ],
 "metadata": {
  "kernelspec": {
   "display_name": "Python 3",
   "language": "python",
   "name": "python3"
  },
  "language_info": {
   "codemirror_mode": {
    "name": "ipython",
    "version": 2
   },
   "file_extension": ".py",
   "mimetype": "text/x-python",
   "name": "python",
   "nbconvert_exporter": "python",
   "pygments_lexer": "ipython2",
   "version": "2.7.6"
  }
 },
 "nbformat": 4,
 "nbformat_minor": 5
}
