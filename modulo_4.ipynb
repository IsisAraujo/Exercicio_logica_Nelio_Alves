{
 "cells": [
  {
   "cell_type": "markdown",
   "source": [
    "## Capítulo: Condicional Simples e Composta\n",
    "## Exercícios "
   ],
   "metadata": {
    "collapsed": false
   },
   "id": "90c727e0f74435a7"
  },
  {
   "cell_type": "markdown",
   "source": [
    "### 1 - Nota do Aluno"
   ],
   "metadata": {
    "collapsed": false
   },
   "id": "385c49c9c8ef939c"
  },
  {
   "cell_type": "code",
   "execution_count": 9,
   "outputs": [],
   "source": [
    "nota1 = float(input('digite a primeira nota 1'))"
   ],
   "metadata": {
    "collapsed": false,
    "ExecuteTime": {
     "end_time": "2023-11-13T13:35:50.494680800Z",
     "start_time": "2023-11-13T13:35:44.486412400Z"
    }
   },
   "id": "4cc528b6a667df6c"
  },
  {
   "cell_type": "code",
   "execution_count": 10,
   "outputs": [],
   "source": [
    "nota2 = float(input('digite a primeira nota 2'))"
   ],
   "metadata": {
    "collapsed": false,
    "ExecuteTime": {
     "end_time": "2023-11-13T13:35:53.733703600Z",
     "start_time": "2023-11-13T13:35:50.462979700Z"
    }
   },
   "id": "b1bc1e513644baf2"
  },
  {
   "cell_type": "code",
   "execution_count": 11,
   "outputs": [],
   "source": [
    "notafinal = (nota1+nota2)"
   ],
   "metadata": {
    "collapsed": false,
    "ExecuteTime": {
     "end_time": "2023-11-13T13:35:53.734701700Z",
     "start_time": "2023-11-13T13:35:53.708597500Z"
    }
   },
   "id": "9e102b01b310f6bb"
  },
  {
   "cell_type": "code",
   "execution_count": 12,
   "outputs": [
    {
     "name": "stdout",
     "output_type": "stream",
     "text": [
      "vc passou\n",
      "76.8\n"
     ]
    }
   ],
   "source": [
    "if notafinal >60.00:\n",
    "    print(\"vc passou\")\n",
    "    print(notafinal)\n",
    "else:\n",
    "    print(\"reprovado\")\n",
    "    print(f'nota final {notafinal:1f}')"
   ],
   "metadata": {
    "collapsed": false,
    "ExecuteTime": {
     "end_time": "2023-11-13T13:35:53.735704300Z",
     "start_time": "2023-11-13T13:35:53.715613700Z"
    }
   },
   "id": "460c3b719446a11f"
  },
  {
   "cell_type": "code",
   "execution_count": null,
   "outputs": [],
   "source": [],
   "metadata": {
    "collapsed": false
   },
   "id": "71d95375817a6364"
  },
  {
   "cell_type": "markdown",
   "source": [
    "### 2 - Baskara\n"
   ],
   "metadata": {
    "collapsed": false
   },
   "id": "5e94579a2e3a9a8c"
  },
  {
   "cell_type": "code",
   "execution_count": 30,
   "outputs": [],
   "source": [
    "a = float(input('digite a '))\n",
    "b = float(input('digite b '))\n",
    "c= float(input('digite c '))"
   ],
   "metadata": {
    "collapsed": false,
    "ExecuteTime": {
     "end_time": "2023-11-13T13:51:08.830220500Z",
     "start_time": "2023-11-13T13:50:58.693130100Z"
    }
   },
   "id": "72f9e03bbbf4afc7"
  },
  {
   "cell_type": "code",
   "execution_count": 31,
   "outputs": [],
   "source": [
    "\n",
    "import math\n",
    "\n",
    "delta = b**2 - 4*a*c\n",
    "\n",
    "if delta < 0:\n",
    "    print(\"Não existem raízes reais.\")\n",
    "else:\n",
    "    x1 = (-b + math.sqrt(delta)) / (2*a)\n",
    "    x2 = (-b - math.sqrt(delta)) / (2*a)\n",
    "    print(f\"x1 = {x1}\")\n",
    "    print(f\"x2 = {x2}\")\n",
    "    print(\"show\")\n"
   ],
   "metadata": {
    "collapsed": false,
    "ExecuteTime": {
     "end_time": "2023-11-13T13:51:11.346766800Z",
     "start_time": "2023-11-13T13:51:11.337653900Z"
    }
   },
   "id": "c346ba4fc4a6ffde"
  },
  {
   "cell_type": "markdown",
   "source": [
    "### 3 - Menor_de_tres"
   ],
   "metadata": {
    "collapsed": false
   },
   "id": "53eb5baeb62afa14"
  },
  {
   "cell_type": "code",
   "execution_count": 38,
   "outputs": [],
   "source": [
    "a = int(input('digite a '))\n",
    "b = int(input('digite b '))\n",
    "c= int(input('digite c '))"
   ],
   "metadata": {
    "collapsed": false,
    "ExecuteTime": {
     "end_time": "2023-11-13T14:11:14.482313800Z",
     "start_time": "2023-11-13T14:11:10.673907700Z"
    }
   },
   "id": "946608ec9a4076dc"
  },
  {
   "cell_type": "code",
   "execution_count": 39,
   "outputs": [
    {
     "name": "stdout",
     "output_type": "stream",
     "text": [
      "O menor número é: 9\n"
     ]
    }
   ],
   "source": [
    "menor = a\n",
    "if b<a:\n",
    "    menor = b\n",
    "    \n",
    "if c<menor:\n",
    "    menor = c\n",
    "\n",
    "print(\"O menor número é:\", menor)"
   ],
   "metadata": {
    "collapsed": false,
    "ExecuteTime": {
     "end_time": "2023-11-13T14:11:16.660884800Z",
     "start_time": "2023-11-13T14:11:16.657312100Z"
    }
   },
   "id": "70d89ac8ec31fef8"
  },
  {
   "cell_type": "markdown",
   "source": [
    "## 4 Problema 'operadora'"
   ],
   "metadata": {
    "collapsed": false
   },
   "id": "b9a86304e044f7a"
  },
  {
   "cell_type": "code",
   "execution_count": 21,
   "outputs": [],
   "source": [
    "minutos_utilizados = int(input('digite a qtd de min'))"
   ],
   "metadata": {
    "collapsed": false,
    "ExecuteTime": {
     "end_time": "2023-11-14T22:33:35.770020500Z",
     "start_time": "2023-11-14T22:33:33.714057700Z"
    }
   },
   "id": "b2b1029539f6801d"
  },
  {
   "cell_type": "code",
   "execution_count": 22,
   "outputs": [],
   "source": [
    "custo_base = 50\n",
    "custo_por_minuto_excedente = 2\n",
    "\n",
    "# Calcular o custo total\n",
    "if minutos_utilizados > 100:\n",
    "    minutos_excedentes = minutos_utilizados - 100\n",
    "    custo_total = custo_base + minutos_excedentes * custo_por_minuto_excedente\n",
    "else:\n",
    "    custo_total = custo_base\n"
   ],
   "metadata": {
    "collapsed": false,
    "ExecuteTime": {
     "end_time": "2023-11-14T22:33:37.600537400Z",
     "start_time": "2023-11-14T22:33:37.596178100Z"
    }
   },
   "id": "175558a806bbe7e8"
  },
  {
   "cell_type": "code",
   "execution_count": 23,
   "outputs": [
    {
     "data": {
      "text/plain": "56"
     },
     "execution_count": 23,
     "metadata": {},
     "output_type": "execute_result"
    }
   ],
   "source": [
    "custo_total"
   ],
   "metadata": {
    "collapsed": false,
    "ExecuteTime": {
     "end_time": "2023-11-14T22:33:40.886989300Z",
     "start_time": "2023-11-14T22:33:40.878167200Z"
    }
   },
   "id": "476be78ff8f8805a"
  },
  {
   "cell_type": "markdown",
   "source": [
    "## Problema  'Troco_verificado'"
   ],
   "metadata": {
    "collapsed": false
   },
   "id": "3f027ed31fcdff6f"
  },
  {
   "cell_type": "code",
   "execution_count": 4,
   "outputs": [],
   "source": [
    "preco = float(input('digite a preco '))\n",
    "qtd = int(input('digite a qtd '))\n",
    "valor_pago = float(input('digite em reais '))"
   ],
   "metadata": {
    "collapsed": false,
    "ExecuteTime": {
     "end_time": "2023-11-14T22:47:21.595434900Z",
     "start_time": "2023-11-14T22:47:15.607124800Z"
    }
   },
   "id": "645802b702e39cc7"
  },
  {
   "cell_type": "code",
   "execution_count": 6,
   "outputs": [],
   "source": [
    "valor_final = preco*qtd"
   ],
   "metadata": {
    "collapsed": false,
    "ExecuteTime": {
     "end_time": "2023-11-14T22:47:29.960648500Z",
     "start_time": "2023-11-14T22:47:29.957006400Z"
    }
   },
   "id": "b566d55b0882d0de"
  },
  {
   "cell_type": "code",
   "execution_count": 7,
   "outputs": [
    {
     "name": "stdout",
     "output_type": "stream",
     "text": [
      "Dinheiro insuficiente. Ainda falta R$ 20.0\n"
     ]
    }
   ],
   "source": [
    "if valor_final > valor_pago:\n",
    "    falta = valor_final - valor_pago\n",
    "    print('Dinheiro insuficiente. Ainda falta R$', falta)\n",
    "else: \n",
    "    troco = valor_pago -valor_final\n",
    "    print('Troco a ser devolvido: R$', troco)"
   ],
   "metadata": {
    "collapsed": false,
    "ExecuteTime": {
     "end_time": "2023-11-14T22:47:31.290793200Z",
     "start_time": "2023-11-14T22:47:31.283505600Z"
    }
   },
   "id": "5a9c6d1b73857b8b"
  },
  {
   "cell_type": "markdown",
   "source": [
    "## Problema Glicose"
   ],
   "metadata": {
    "collapsed": false
   },
   "id": "6044b0c34e6655ff"
  },
  {
   "cell_type": "code",
   "execution_count": 22,
   "outputs": [],
   "source": [
    "glicose= float(input('qual o valor da glicose? '))\n"
   ],
   "metadata": {
    "collapsed": false,
    "ExecuteTime": {
     "end_time": "2023-11-14T22:54:14.609843400Z",
     "start_time": "2023-11-14T22:54:10.786364400Z"
    }
   },
   "id": "597f286123cad5ac"
  },
  {
   "cell_type": "code",
   "execution_count": 23,
   "outputs": [
    {
     "name": "stdout",
     "output_type": "stream",
     "text": [
      "Diabetes\n"
     ]
    }
   ],
   "source": [
    "if glicose <=100:\n",
    "    print('Normal')\n",
    "elif 100 <= glicose <= 140:\n",
    "    print('Elevado')\n",
    "else: \n",
    "    glicose > 140\n",
    "    print('Diabetes')\n",
    "    "
   ],
   "metadata": {
    "collapsed": false,
    "ExecuteTime": {
     "end_time": "2023-11-14T22:54:16.803907500Z",
     "start_time": "2023-11-14T22:54:16.798696Z"
    }
   },
   "id": "f9a4c09e1695849b"
  },
  {
   "cell_type": "markdown",
   "source": [
    "## Problema \"temperatura\" "
   ],
   "metadata": {
    "collapsed": false
   },
   "id": "1fdb83986a3e3308"
  },
  {
   "cell_type": "code",
   "execution_count": 28,
   "outputs": [],
   "source": [
    "temperatura= float(input('qual a temperatura '))\n",
    "escala= input('qual a escala ')"
   ],
   "metadata": {
    "collapsed": false,
    "ExecuteTime": {
     "end_time": "2023-11-14T23:09:03.922912900Z",
     "start_time": "2023-11-14T23:08:37.336932600Z"
    }
   },
   "id": "3f3fbb12bd454841"
  },
  {
   "cell_type": "code",
   "execution_count": 29,
   "outputs": [
    {
     "name": "stdout",
     "output_type": "stream",
     "text": [
      "Dinheiro insuficiente. Ainda falta R$ 82.4\n"
     ]
    }
   ],
   "source": [
    "if escala == \"F\":\n",
    "    cels = (temperatura - 32)*(5/9)\n",
    "    print('Dinheiro insuficiente. Ainda falta R$', cels)\n",
    "else:\n",
    "    escala == 'C'\n",
    "    faren = (9/5)*temperatura + 32\n",
    "    print('Dinheiro insuficiente. Ainda falta R$', faren)"
   ],
   "metadata": {
    "collapsed": false,
    "ExecuteTime": {
     "end_time": "2023-11-14T23:09:06.647470100Z",
     "start_time": "2023-11-14T23:09:06.641304200Z"
    }
   },
   "id": "3621a831356a9d9e"
  },
  {
   "cell_type": "markdown",
   "source": [
    "## Problema \"lanchonete\""
   ],
   "metadata": {
    "collapsed": false
   },
   "id": "8180d15b4c80e2e9"
  },
  {
   "cell_type": "code",
   "execution_count": 6,
   "outputs": [
    {
     "name": "stdout",
     "output_type": "stream",
     "text": [
      "15.0\n"
     ]
    }
   ],
   "source": [
    "codigo= float(input('digite o codigo do produto '))\n",
    "quantidade = float(input('digite o quantidade do produto'))\n",
    "if codigo == 1:\n",
    "    print(codigo*5*quantidade)\n",
    "elif codigo == 2:\n",
    "    print(codigo*3.50*quantidade)\n",
    "elif codigo == 3:\n",
    "    print(codigo*4.80*quantidade)\n",
    "elif codigo == 4:\n",
    "    print(codigo*8.90*quantidade)\n",
    "else:\n",
    "    print(codigo*7.32*quantidade)\n",
    "    \n"
   ],
   "metadata": {
    "collapsed": false,
    "ExecuteTime": {
     "end_time": "2023-11-21T20:13:06.320587Z",
     "start_time": "2023-11-21T20:13:02.372885900Z"
    }
   },
   "id": "61f3a7b2ddcb4236"
  },
  {
   "cell_type": "markdown",
   "source": [
    "\n",
    "## Problema \"multiplos\""
   ],
   "metadata": {
    "collapsed": false
   },
   "id": "a1e14fd028831df8"
  },
  {
   "cell_type": "code",
   "execution_count": 9,
   "outputs": [
    {
     "name": "stdout",
     "output_type": "stream",
     "text": [
      "Os números não são múltiplos entre si.\n"
     ]
    }
   ],
   "source": [
    "n1= int(input('digite o num 1 '))\n",
    "n2 = int(input('digite o num 2'))\n",
    "if n1 % n2 == 0 or n2 % n1 == 0:\n",
    "    print( \"Um número é múltiplo do outro.\")\n",
    "else:\n",
    "    print (\"Os números não são múltiplos entre si.\")"
   ],
   "metadata": {
    "collapsed": false,
    "ExecuteTime": {
     "end_time": "2023-11-21T20:21:38.445412100Z",
     "start_time": "2023-11-21T20:21:35.685090800Z"
    }
   },
   "id": "552a356c8c7d4fa3"
  },
  {
   "cell_type": "markdown",
   "source": [
    "## Problema \"aumento\""
   ],
   "metadata": {
    "collapsed": false
   },
   "id": "916bc091655c56fc"
  },
  {
   "cell_type": "code",
   "execution_count": 12,
   "outputs": [
    {
     "name": "stdout",
     "output_type": "stream",
     "text": [
      "Novo salário: R$ 2875.00\n",
      "Aumento: R$ 375.00\n",
      "Porcentagem de aumento: 15.0%\n"
     ]
    }
   ],
   "source": [
    "salario = float(input('Digite o salário: '))\n",
    "\n",
    "if salario <= 1000.00:\n",
    "    percentual = 0.20  # Aumento de 20%\n",
    "elif salario <= 3000.00:\n",
    "    percentual = 0.15  # Aumento de 15%\n",
    "elif salario <= 8000.00:\n",
    "    percentual = 0.10  # Aumento de 10%\n",
    "else:\n",
    "    percentual = 0.05  # Aumento de 5%\n",
    "\n",
    "aumento = salario * percentual\n",
    "novo_salario = salario + aumento\n",
    "\n",
    "print(f'Novo salário: R$ {novo_salario:.2f}')\n",
    "print(f'Aumento: R$ {aumento:.2f}')\n",
    "print(f'Porcentagem de aumento: {percentual * 100}%')\n"
   ],
   "metadata": {
    "collapsed": false,
    "ExecuteTime": {
     "end_time": "2023-11-21T20:57:36.037930100Z",
     "start_time": "2023-11-21T20:57:32.552683200Z"
    }
   },
   "id": "a0e12d9258a4095"
  },
  {
   "cell_type": "markdown",
   "source": [
    "## Problema \"tempo_de_jogo\""
   ],
   "metadata": {
    "collapsed": false
   },
   "id": "81c40e28eebb068"
  },
  {
   "cell_type": "code",
   "execution_count": 13,
   "outputs": [
    {
     "name": "stdout",
     "output_type": "stream",
     "text": [
      "10\n"
     ]
    }
   ],
   "source": [
    "h1= int(input('digite a hora inicial '))\n",
    "h2= int(input('digite a hora de termino'))\n",
    "dia = 24\n",
    " \n",
    "if dia:\n",
    "    duracao = (dia - h1)+h2\n",
    "    print(duracao)\n",
    "    "
   ],
   "metadata": {
    "collapsed": false,
    "ExecuteTime": {
     "end_time": "2023-11-21T21:08:10.584289600Z",
     "start_time": "2023-11-21T21:08:04.602796100Z"
    }
   },
   "id": "4280406a17fdff03"
  },
  {
   "cell_type": "markdown",
   "source": [
    "## Problema \"coordenadas\""
   ],
   "metadata": {
    "collapsed": false
   },
   "id": "8c961b928589df79"
  },
  {
   "cell_type": "code",
   "execution_count": 15,
   "outputs": [
    {
     "name": "stdout",
     "output_type": "stream",
     "text": [
      "Pertence ao Q4\n"
     ]
    }
   ],
   "source": [
    "coorX=float(input('digite a coordenada X '))\n",
    "coorY=float(input('digite a coordenada Y'))\n",
    "\n",
    "if coorX > 0 and coorY >0:\n",
    "    print ('Pertence ao Q1')\n",
    "    \n",
    "elif coorX < 0 and coorY > 0:\n",
    "    print ('Pertence ao Q2')\n",
    "\n",
    "elif coorX < 0 and coorY < 0:\n",
    "    print ('Pertence ao Q3')\n",
    "\n",
    "elif coorX == 0 and coorY == 0:\n",
    "    print ('Pertence a origem')    \n",
    "    \n",
    "else:\n",
    "    print ('Pertence ao Q4')"
   ],
   "metadata": {
    "collapsed": false,
    "ExecuteTime": {
     "end_time": "2023-11-21T21:19:04.931638500Z",
     "start_time": "2023-11-21T21:18:52.806795700Z"
    }
   },
   "id": "e9aced0f98326a0f"
  },
  {
   "cell_type": "code",
   "execution_count": null,
   "outputs": [],
   "source": [],
   "metadata": {
    "collapsed": false
   },
   "id": "cd9e688aa0b40dc1"
  }
 ],
 "metadata": {
  "kernelspec": {
   "display_name": "Python 3",
   "language": "python",
   "name": "python3"
  },
  "language_info": {
   "codemirror_mode": {
    "name": "ipython",
    "version": 2
   },
   "file_extension": ".py",
   "mimetype": "text/x-python",
   "name": "python",
   "nbconvert_exporter": "python",
   "pygments_lexer": "ipython2",
   "version": "2.7.6"
  }
 },
 "nbformat": 4,
 "nbformat_minor": 5
}
